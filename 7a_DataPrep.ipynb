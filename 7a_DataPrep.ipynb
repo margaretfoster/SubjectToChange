{
 "cells": [
  {
   "cell_type": "markdown",
   "id": "a60eecf4",
   "metadata": {},
   "source": [
    "## Introduction ## \n",
    "\n",
    "This is a small Notebook that prepares data that I will use in the summary introduction notebook as well as in the interactive Dash app.\n",
    "\n",
    "It produces to dataframes: \n",
    "\n",
    "- First, it attaches Regions metadata to the Group Years data.\n",
    "- Second, it creates a dataframes that counts number of changes by group and by year\n"
   ]
  },
  {
   "cell_type": "code",
   "execution_count": 1,
   "id": "b314c5d8",
   "metadata": {},
   "outputs": [
    {
     "name": "stdout",
     "output_type": "stream",
     "text": [
      "(2180, 20)\n",
      "['Unnamed: 0', 'ucdp_name', 'ucdp_dset_id', 'year', 'modeledarticles', 'countT1', 'countT2', 'propT1', 'propT2', 'propdiff', 'propdif.L1', 'propdif.L2', 'delta1', 'delta1.5', 'delta2', 'delta1_L2', 'gap25', 'gap50', 'counter', 'frexWords']\n"
     ]
    }
   ],
   "source": [
    "import pandas as pd\n",
    "import numpy as nd\n",
    "\n",
    "\n",
    "group_years = pd.read_csv(\"./data/group_years.csv\")\n",
    "print(group_years.shape) ## 2180 x 20\n",
    "#print(group_years.head)\n",
    "print(list(group_years.columns)) ## includes readable name, dataset ID. \n",
    "\n"
   ]
  },
  {
   "cell_type": "code",
   "execution_count": 2,
   "id": "b76dc6e7",
   "metadata": {},
   "outputs": [
    {
     "name": "stdout",
     "output_type": "stream",
     "text": [
      "(260, 2)\n",
      "region\n",
      "Africa         111\n",
      "Asia            75\n",
      "Middle East     25\n",
      "Europe          22\n",
      "Multiple        14\n",
      "Americas        13\n",
      "Name: count, dtype: int64\n"
     ]
    }
   ],
   "source": [
    "## Load helper df that maps groups to regions of activity\n",
    "## (Pulled out of UCDP GED)\n",
    "region_key = pd.read_csv(\"./data/region_key.csv\")\n",
    "\n",
    "## ID groups associated with more than one region\n",
    "## Call that \"multiple\"\n",
    "\n",
    "duplicates = region_key[region_key.duplicated(subset=[\"side_b_dset_id\"])]\n",
    "\n",
    "region_key.loc[region_key['side_b_dset_id'].isin(\n",
    "    duplicates[\"side_b_dset_id\"].values), \"region\"] = \"Multiple\"\n",
    "\n",
    "region_key = region_key[['side_b_dset_id', \"region\"]].drop_duplicates()\n",
    "\n",
    "## Verify should be 260 x 2, so just unique group names & region\n",
    "\n",
    "print(region_key.shape) ## 260 x 2 v\n",
    "\n",
    "## Quick summary table:\n",
    "print(region_key[\"region\"].value_counts())\n"
   ]
  },
  {
   "cell_type": "code",
   "execution_count": 3,
   "id": "b2463da3",
   "metadata": {},
   "outputs": [
    {
     "name": "stdout",
     "output_type": "stream",
     "text": [
      "(2180, 22)\n"
     ]
    }
   ],
   "source": [
    "## Merge in Regions \n",
    "group_years = group_years.merge(region_key,\n",
    "                                left_on = \"ucdp_dset_id\",\n",
    "                                right_on = \"side_b_dset_id\")\n",
    "\n",
    "print(group_years.shape) ## 2180 x 22"
   ]
  },
  {
   "cell_type": "code",
   "execution_count": 4,
   "id": "6f9f1cdb",
   "metadata": {},
   "outputs": [],
   "source": []
  },
  {
   "cell_type": "markdown",
   "id": "9b566d28",
   "metadata": {},
   "source": [
    "## Save \n",
    "\n",
    "To import into the analysis notebook, and to copy to the Dash app directory"
   ]
  },
  {
   "cell_type": "code",
   "execution_count": 5,
   "id": "663860af",
   "metadata": {},
   "outputs": [],
   "source": [
    "group_years.to_csv(\"./data/group_years_regions.csv\", index = False)"
   ]
  },
  {
   "cell_type": "code",
   "execution_count": null,
   "id": "adb718ca",
   "metadata": {},
   "outputs": [],
   "source": []
  }
 ],
 "metadata": {
  "kernelspec": {
   "display_name": "Python 3 (ipykernel)",
   "language": "python",
   "name": "python3"
  },
  "language_info": {
   "codemirror_mode": {
    "name": "ipython",
    "version": 3
   },
   "file_extension": ".py",
   "mimetype": "text/x-python",
   "name": "python",
   "nbconvert_exporter": "python",
   "pygments_lexer": "ipython3",
   "version": "3.9.12"
  }
 },
 "nbformat": 4,
 "nbformat_minor": 5
}
