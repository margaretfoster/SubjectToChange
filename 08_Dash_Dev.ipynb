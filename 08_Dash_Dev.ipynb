{
 "cells": [
  {
   "cell_type": "markdown",
   "id": "d5af1774",
   "metadata": {},
   "source": [
    "## Introduction and Scope\n",
    "\n",
    "This notebook is a Jupyter Notebook for interactive development of the Dash visualization app that will accompany the Subject to Change distribution.\n",
    "\n",
    "The app is/will be deployed in a different repository, so that it can have a standalone webpage. However, it is much faster to tweak the code in a Notebook than on the terminal."
   ]
  },
  {
   "cell_type": "code",
   "execution_count": 35,
   "id": "db7a49d8",
   "metadata": {},
   "outputs": [],
   "source": [
    "import pandas as pd\n",
    "import numpy as nd\n",
    "import matplotlib.pyplot as plt\n",
    "from matplotlib import cm\n",
    "import plotly.express as px\n",
    "import plotly.graph_objects as go\n",
    "import plotly.io as pio\n",
    "pio.renderers.default = \"plotly_mimetype+notebook\""
   ]
  },
  {
   "cell_type": "markdown",
   "id": "82a7e811",
   "metadata": {},
   "source": [
    "## Load the data:"
   ]
  },
  {
   "cell_type": "code",
   "execution_count": 44,
   "id": "ea007e53",
   "metadata": {},
   "outputs": [],
   "source": [
    "group_years = pd.read_csv(\"./data/group_years_regions.csv\")"
   ]
  },
  {
   "cell_type": "code",
   "execution_count": 50,
   "id": "cfec8026",
   "metadata": {},
   "outputs": [
    {
     "name": "stdout",
     "output_type": "stream",
     "text": [
      "(2180, 22)\n",
      "Index(['Unnamed: 0', 'ucdp_name', 'ucdp_dset_id', 'year', 'modeledarticles',\n",
      "       'countT1', 'countT2', 'propT1', 'propT2', 'propdiff', 'propdif.L1',\n",
      "       'propdif.L2', 'delta1', 'delta1.5', 'delta2', 'delta1_L2', 'gap25',\n",
      "       'gap50', 'counter', 'frexWords', 'side_b_dset_id', 'region'],\n",
      "      dtype='object')\n",
      "<bound method NDFrame._add_numeric_operations.<locals>.min of 0       1990\n",
      "1       1991\n",
      "2       1992\n",
      "3       1993\n",
      "4       1994\n",
      "        ... \n",
      "2175    2010\n",
      "2176    2020\n",
      "2177    2019\n",
      "2178    2019\n",
      "2179    2020\n",
      "Name: year, Length: 2180, dtype: int64>\n",
      "<bound method NDFrame._add_numeric_operations.<locals>.max of 0       1990\n",
      "1       1991\n",
      "2       1992\n",
      "3       1993\n",
      "4       1994\n",
      "        ... \n",
      "2175    2010\n",
      "2176    2020\n",
      "2177    2019\n",
      "2178    2019\n",
      "2179    2020\n",
      "Name: year, Length: 2180, dtype: int64>\n"
     ]
    }
   ],
   "source": [
    "\n",
    "print(group_years.shape)\n",
    "print(group_years.columns)\n"
   ]
  },
  {
   "cell_type": "markdown",
   "id": "08f72d79",
   "metadata": {},
   "source": [
    "## Create helper objects:"
   ]
  },
  {
   "cell_type": "code",
   "execution_count": 47,
   "id": "2277761d",
   "metadata": {},
   "outputs": [
    {
     "name": "stdout",
     "output_type": "stream",
     "text": [
      "['KDPI', 'CPP', 'KNU', 'RSO', 'NMSP', 'PWG', 'MCC', 'CPI-Maoist', 'KIO', 'PFLP']\n",
      "KDPI\n"
     ]
    }
   ],
   "source": [
    "tst = group_years.ucdp_name.unique().tolist()\n",
    "\n",
    "print(tst[:10])\n",
    "print(tst[0])"
   ]
  },
  {
   "cell_type": "markdown",
   "id": "dd9f9f9a",
   "metadata": {},
   "source": [
    "## Test a way to automatically extract FREX words\n",
    "\n",
    "(This works, but will need a few case statements in case there are no words attached)"
   ]
  },
  {
   "cell_type": "code",
   "execution_count": 28,
   "id": "33748763",
   "metadata": {},
   "outputs": [
    {
     "name": "stdout",
     "output_type": "stream",
     "text": [
      "r,opposit,hengaw,link,men,organ,re,suspicion,human,two\n",
      "KDPI\n",
      "CPP\n",
      "KNU\n"
     ]
    }
   ],
   "source": [
    "grup1 = tst[0]\n",
    "\n",
    "df = group_years\n",
    "\n",
    "print\n",
    "\n",
    "cond1 = df[\"propT1\"] > 0.5\n",
    "cond2 = df[df[\"ucdp_name\"] == tst[1]]\n",
    "\n",
    "print(df.loc[(df['ucdp_name'] == (tst[0])) & (df.propT1 > 0.5)].frexWords[0])\n",
    "#print(df.loc[(df['ucdp_name'] == (tst[3])) & (df.propT2 > 0.5)].frexWords[0])\n",
    "\n",
    "#T1_label = df[(df.propT1 > 0.5) & (df.loc[\"ucdp_name\"] == \"CPP\")].frexWords[0]\n",
    "\n",
    "\n",
    "print(tst[0])\n",
    "print(tst[1])\n",
    "print(tst[2])\n"
   ]
  },
  {
   "cell_type": "markdown",
   "id": "1a6eb0db",
   "metadata": {},
   "source": [
    "## Dev Interactive Dash Plots"
   ]
  },
  {
   "cell_type": "markdown",
   "id": "5bf28d20",
   "metadata": {},
   "source": [
    "1) Basic plot:"
   ]
  },
  {
   "cell_type": "code",
   "execution_count": 29,
   "id": "baef9420",
   "metadata": {},
   "outputs": [
    {
     "data": {
      "text/html": [
       "\n",
       "        <iframe\n",
       "            width=\"100%\"\n",
       "            height=\"650\"\n",
       "            src=\"http://127.0.0.1:8050/\"\n",
       "            frameborder=\"0\"\n",
       "            allowfullscreen\n",
       "            \n",
       "        ></iframe>\n",
       "        "
      ],
      "text/plain": [
       "<IPython.lib.display.IFrame at 0x7f91d3888190>"
      ]
     },
     "metadata": {},
     "output_type": "display_data"
    }
   ],
   "source": [
    "\n",
    "import dash\n",
    "from dash import Dash, dcc, html, Input, Output\n",
    "import plotly.graph_objects as go\n",
    "\n",
    "app = Dash(__name__)\n",
    "\n",
    "\n",
    "app.layout = html.Div([\n",
    "    html.H4('Group Trajectory Visualizer (Dev)'),\n",
    "    dcc.Graph(id=\"graph\"),\n",
    "    dcc.Checklist(\n",
    "        id=\"checklist\",\n",
    "        #options=['KDPI', 'AQAP', 'KNU', 'CPP'],\n",
    "        options = tst[:10],\n",
    "        value=[tst[0]],\n",
    "        inline=True\n",
    "    ),\n",
    "])\n",
    "\n",
    "\n",
    "@app.callback(\n",
    "    Output(\"graph\", \"figure\"), \n",
    "    Input(\"checklist\", \"value\"))\n",
    "\n",
    "def update_line_chart(value):\n",
    "  \n",
    "    df = group_years.sort_values(by=\"year\") # replace with your own data source\n",
    "    mask = df.ucdp_name.isin(value)\n",
    "    \n",
    "    fig = px.line(df[mask], \n",
    "                     x=\"year\", \n",
    "                     y=\"propdiff\", \n",
    "                    color=\"ucdp_name\", \n",
    "                 labels={\"year_total\": \"Number of Changes\",\n",
    "                        \"year\": \"Year\",\n",
    "                        'ucdp_name' : \"Selected Group/s\"})\n",
    "    fig.add_hline(y=0.0, line_dash=\"dash\", line_color=\"green\")\n",
    "    fig.update_layout(yaxis_range=[-1.05,1.05])\n",
    "    fig.update_layout(plot_bgcolor='white')\n",
    "    fig.update_xaxes(\n",
    "    mirror=True,\n",
    "    ticks='outside',\n",
    "    dtick=1,\n",
    "    showline=True,\n",
    "    linecolor='black',\n",
    "   # gridcolor='lightgrey'\n",
    ")\n",
    "    fig.update_yaxes(\n",
    "    mirror=True,\n",
    "    ticks='outside',\n",
    "    showline=True,\n",
    "    linecolor='black',\n",
    "    tick0 =1,\n",
    "    dtick=1\n",
    "    #gridcolor='lightgrey'\n",
    ")\n",
    "    \n",
    "    return fig\n",
    "\n",
    "\n",
    "app.run_server(debug=True)"
   ]
  },
  {
   "cell_type": "markdown",
   "id": "308c8410",
   "metadata": {},
   "source": [
    "## Developing For Regions\n",
    "\n",
    "(The goal is to eventually have an interacative plot where users can select the region, which will customize the drop-down list of potential groups to compare).\n",
    "\n",
    "Alternatively, a version with multiple regions presented"
   ]
  },
  {
   "cell_type": "code",
   "execution_count": null,
   "id": "10ba2a13",
   "metadata": {},
   "outputs": [],
   "source": []
  },
  {
   "cell_type": "code",
   "execution_count": 18,
   "id": "31ecb5da",
   "metadata": {},
   "outputs": [
    {
     "data": {
      "text/html": [
       "\n",
       "        <iframe\n",
       "            width=\"100%\"\n",
       "            height=\"650\"\n",
       "            src=\"http://127.0.0.1:8050/\"\n",
       "            frameborder=\"0\"\n",
       "            allowfullscreen\n",
       "            \n",
       "        ></iframe>\n",
       "        "
      ],
      "text/plain": [
       "<IPython.lib.display.IFrame at 0x7f91d171e910>"
      ]
     },
     "metadata": {},
     "output_type": "display_data"
    }
   ],
   "source": [
    "## Do the regions by hand:\n",
    "\n",
    "tst_asia = group_years[group_years[\"region\"] == \"Asia\"].ucdp_name.unique().tolist()\n",
    "\n",
    "app = Dash(__name__)\n",
    "\n",
    "\n",
    "app.layout = html.Div(children=[\n",
    "    html.H4('Groups in Asia (Dev)'),\n",
    "    dcc.Graph(id=\"graph\"),\n",
    "    \n",
    "    html.Div([\n",
    "        \"Select Group: \",\n",
    "        dcc.Dropdown(\n",
    "        id=\"dropdown\",\n",
    "        options = tst_asia,\n",
    "        value=[tst_asia[0]],\n",
    "        #inline=True\n",
    "    ),\n",
    "    ]),\n",
    "    \n",
    "    html.Div([\n",
    "        \"Select Region \",\n",
    "        dcc.RadioItems(id='region-radio',\n",
    "        options=[\n",
    "        {'label': 'Asia', 'value': 'Asia'},\n",
    "        {'label': 'Africa', 'value': 'Africa'},\n",
    "        {'label': 'Americas', 'value': 'All'},\n",
    "        {'label': 'Europe', 'value': 'Europe'},\n",
    "        {'label': 'Middle East', 'value': 'Middle East'},\n",
    "        {'label': 'Multiple', 'value': 'Multiple'}\n",
    "            ],\n",
    "        value='All',\n",
    "        style={'width': '20%', 'display': 'inline-block'}),\n",
    "         ]),\n",
    "\n",
    "]) #closes app.layout call\n",
    "\n",
    "@app.callback(\n",
    "    Output(\"graph\", \"figure\"), \n",
    "    Input(\"dropdown\", \"value\"))\n",
    "\n",
    "def update_line_chart(value):\n",
    "  \n",
    "    df = group_years[group_years[\"region\"] == \"Asia\"].sort_values(by=\"year\") ## sorted by year so line works\n",
    "    mask = df.ucdp_name.isin([value])\n",
    "    \n",
    "    fig = px.line(df[mask], \n",
    "                     x=\"year\", \n",
    "                     y=\"propdiff\", \n",
    "                  color=\"ucdp_name\", \n",
    "                 labels={\n",
    "                     \"propdiff\": \"Frame Summary\",\n",
    "                     \"udcp_name\": \"Group Name\",\n",
    "                     \"year\": \"Year\", \n",
    "                     'ucdp_name' : \"Selected Group\"\n",
    "                 })\n",
    "    fig.add_hline(y=0.0, line_dash=\"dash\", line_color=\"green\")\n",
    "    fig.update_layout(yaxis_range=[-1,1])\n",
    "    fig.update_layout(plot_bgcolor='white')\n",
    "    return fig\n",
    "\n",
    "\n",
    "app.run_server(debug=True)"
   ]
  },
  {
   "cell_type": "code",
   "execution_count": 59,
   "id": "38e136de",
   "metadata": {},
   "outputs": [
    {
     "data": {
      "text/html": [
       "\n",
       "        <iframe\n",
       "            width=\"100%\"\n",
       "            height=\"650\"\n",
       "            src=\"http://127.0.0.1:8050/\"\n",
       "            frameborder=\"0\"\n",
       "            allowfullscreen\n",
       "            \n",
       "        ></iframe>\n",
       "        "
      ],
      "text/plain": [
       "<IPython.lib.display.IFrame at 0x7f91a2850b50>"
      ]
     },
     "metadata": {},
     "output_type": "display_data"
    }
   ],
   "source": [
    "import dash\n",
    "from dash import dcc, html, Input, Output\n",
    "import pandas as pd\n",
    "\n",
    "# Sample data\n",
    "df=group_years\n",
    "\n",
    "# Initialize the Dash app\n",
    "app = dash.Dash(__name__)\n",
    "\n",
    "# App layout\n",
    "app.layout = html.Div([\n",
    "    dcc.Dropdown(\n",
    "        id='dropdown-category1',\n",
    "        options=[{'label': i, 'value': i} for i in df['region'].unique()],\n",
    "        value=df['region'].unique()[0]\n",
    "    ),\n",
    "    html.Br(),\n",
    "    dcc.Dropdown(id='dropdown-category2'),\n",
    "    html.Br(),\n",
    "    dcc.Graph(id='line-plot')\n",
    "])\n",
    "\n",
    "# Define callback to update dropdown options based on category1 selection\n",
    "@app.callback(\n",
    "    Output('dropdown-category2', 'options'),\n",
    "    [Input('dropdown-category1', 'value')]\n",
    ")\n",
    "def update_dropdown_category2(selected_category1):\n",
    "    filtered_df = df[df['region'] == selected_category1]\n",
    "    options = [{'label': i, 'value': i} for i in filtered_df['ucdp_name'].unique()]\n",
    "    return options\n",
    "\n",
    "# Define callback to update line plot based on category2 selection\n",
    "@app.callback(\n",
    "    Output('line-plot', 'figure'),\n",
    "    [Input('dropdown-category1', 'value'),\n",
    "     Input('dropdown-category2', 'value')]\n",
    ")\n",
    "def update_line_plot(selected_category1, selected_category2):\n",
    "    filtered_df = df[(df['region'] == selected_category1) & (df['ucdp_name'] == selected_category2)]\n",
    "    filtered_df = filtered_df.sort_values(by=\"year\") ## filter for line sanity, new line for readiability\n",
    "    \n",
    "    fig = px.line(filtered_df, \n",
    "                     x=\"year\", \n",
    "                     y=\"propdiff\", \n",
    "                  color=\"ucdp_name\", \n",
    "                 labels={\n",
    "                     \"propdiff\": \"Frame Summary\",\n",
    "                     \"udcp_name\": \"Group Name\",\n",
    "                     \"year\": \"Year\", \n",
    "                     'ucdp_name' : \"Selected Group\"\n",
    "                 })\n",
    "    fig.update_xaxes(range=[1991, 2020])\n",
    "    fig.add_hline(y=0.0, line_dash=\"dash\", line_color=\"green\")\n",
    "    fig.update_layout(yaxis_range=[-1,1],  \n",
    "                      xaxis={'dtick': 1},\n",
    "                      \n",
    "                     )\n",
    "    fig.update_layout(plot_bgcolor='white')\n",
    "    return fig\n",
    "\n",
    "# Run the app\n",
    "if __name__ == '__main__':\n",
    "    app.run_server(debug=True)\n",
    "\n"
   ]
  },
  {
   "cell_type": "code",
   "execution_count": null,
   "id": "bf70a6a9",
   "metadata": {},
   "outputs": [],
   "source": []
  }
 ],
 "metadata": {
  "kernelspec": {
   "display_name": "Python 3 (ipykernel)",
   "language": "python",
   "name": "python3"
  },
  "language_info": {
   "codemirror_mode": {
    "name": "ipython",
    "version": 3
   },
   "file_extension": ".py",
   "mimetype": "text/x-python",
   "name": "python",
   "nbconvert_exporter": "python",
   "pygments_lexer": "ipython3",
   "version": "3.9.12"
  }
 },
 "nbformat": 4,
 "nbformat_minor": 5
}
